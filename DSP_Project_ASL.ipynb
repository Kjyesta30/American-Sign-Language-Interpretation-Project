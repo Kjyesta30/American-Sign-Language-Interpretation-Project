{
 "cells": [
  {
   "cell_type": "markdown",
   "metadata": {},
   "source": [
    "### Interpreting  American Sign Language Using Machine Learning"
   ]
  },
  {
   "cell_type": "markdown",
   "metadata": {},
   "source": [
    "### Importing the Required Libraries"
   ]
  },
  {
   "cell_type": "code",
   "execution_count": 1,
   "metadata": {},
   "outputs": [],
   "source": [
    "#Importing the required libraries\n",
    "import os\n",
    "import numpy as np # linear algebra\n",
    "import pandas as pd # data processing, CSV file I/O (e.g. pd.read_csv)\n",
    "import cv2\n",
    "import matplotlib.pyplot as plt\n",
    "import tensorflow as tf\n",
    "from tensorflow.keras.models import Sequential\n",
    "from tensorflow.keras.layers import Dense, Flatten, Dropout, Activation, Conv2D, MaxPooling2D\n",
    "from tensorflow import keras\n",
    "from tensorflow.keras.preprocessing.image import ImageDataGenerator, array_to_img, img_to_array, load_img\n",
    "from PIL import Image\n",
    "from numpy import asarray\n",
    "import glob\n",
    "from tqdm import tqdm\n",
    "import shutil\n",
    "from pathlib import Path\n",
    "import random\n",
    "from keras.utils import np_utils\n",
    "import matplotlib.pyplot as plt\n",
    "from tensorflow.keras.layers import MaxPool2D\n",
    "from tensorflow.keras.callbacks import EarlyStopping\n",
    "from sklearn.metrics import confusion_matrix, accuracy_score\n",
    "from sklearn.metrics import classification_report"
   ]
  },
  {
   "cell_type": "markdown",
   "metadata": {},
   "source": [
    "### Printing the current working directory"
   ]
  },
  {
   "cell_type": "code",
   "execution_count": 2,
   "metadata": {},
   "outputs": [],
   "source": [
    "cwd = os.getcwd()"
   ]
  },
  {
   "cell_type": "code",
   "execution_count": 3,
   "metadata": {},
   "outputs": [
    {
     "data": {
      "text/plain": [
       "'C:\\\\Users\\\\skasibhotla\\\\Downloads'"
      ]
     },
     "execution_count": 3,
     "metadata": {},
     "output_type": "execute_result"
    }
   ],
   "source": [
    "cwd"
   ]
  },
  {
   "cell_type": "markdown",
   "metadata": {},
   "source": [
    "### Adding the images to the image_arrays and the Corresponding labels to labels"
   ]
  },
  {
   "cell_type": "code",
   "execution_count": 4,
   "metadata": {},
   "outputs": [],
   "source": [
    "pic_lib = r'C:\\\\Users\\\\skasibhotla\\\\Downloads\\\\ASL'\n",
    "\n",
    "letter_list = []\n",
    "\n",
    "for item in os.listdir(pic_lib):\n",
    "    letter_list.append(item)\n",
    "\n",
    "extensions = (\"*.jpg\", \"*.jpeg\")\n",
    "\n",
    "image_arrays = []\n",
    "labels = []\n",
    "\n",
    "for letter in letter_list:\n",
    "    for ext in extensions:\n",
    "        for index, pic in enumerate(glob.glob(pic_lib + \"\\\\\" + letter + \"\\\\\" + ext), start = 1):\n",
    "            \n",
    "            #file name to label           \n",
    "            labels.append(letter)\n",
    "           \n",
    "            #split file path and file name \n",
    "            path, filename = os.path.split(pic)\n",
    "            \n",
    "            #New array Name\n",
    "            newFileName = str(letter)+str(index)\n",
    "            \n",
    "            img = cv2.imread(os.path.join(pic_lib, pic), 0)  \n",
    "            \n",
    "            new_img_array = cv2.resize(img, dsize=(80, 80))\n",
    "            image_arrays.append(new_img_array)\n",
    "            "
   ]
  },
  {
   "cell_type": "markdown",
   "metadata": {},
   "source": [
    "###  There are total 5408 images in the dataset"
   ]
  },
  {
   "cell_type": "code",
   "execution_count": 5,
   "metadata": {},
   "outputs": [
    {
     "data": {
      "text/plain": [
       "5408"
      ]
     },
     "execution_count": 5,
     "metadata": {},
     "output_type": "execute_result"
    }
   ],
   "source": [
    "len(labels)"
   ]
  },
  {
   "cell_type": "markdown",
   "metadata": {},
   "source": [
    "Good sources:\n",
    "\n",
    "https://auth0.com/blog/image-processing-in-python-with-pillow/\n",
    "\n",
    "https://medium.com/neuronio/how-to-deal-with-image-resizing-in-deep-learning-e5177fad7d89"
   ]
  },
  {
   "cell_type": "code",
   "execution_count": 6,
   "metadata": {},
   "outputs": [],
   "source": [
    "s = pd.Series(labels)"
   ]
  },
  {
   "cell_type": "markdown",
   "metadata": {},
   "source": [
    "### Counting the number of images in each alphabet folder "
   ]
  },
  {
   "cell_type": "code",
   "execution_count": 7,
   "metadata": {},
   "outputs": [
    {
     "data": {
      "text/plain": [
       "T    240\n",
       "L    235\n",
       "K    230\n",
       "V    229\n",
       "E    224\n",
       "D    218\n",
       "P    216\n",
       "B    214\n",
       "J    214\n",
       "C    214\n",
       "N    207\n",
       "G    204\n",
       "I    203\n",
       "Y    203\n",
       "A    203\n",
       "W    202\n",
       "R    201\n",
       "Q    201\n",
       "X    200\n",
       "F    199\n",
       "U    195\n",
       "O    195\n",
       "H    194\n",
       "Z    192\n",
       "S    189\n",
       "M    186\n",
       "dtype: int64"
      ]
     },
     "execution_count": 7,
     "metadata": {},
     "output_type": "execute_result"
    }
   ],
   "source": [
    "s.value_counts()"
   ]
  },
  {
   "cell_type": "markdown",
   "metadata": {},
   "source": [
    "### Reshaping the image to 80 * 80 pixel and grayscale"
   ]
  },
  {
   "cell_type": "code",
   "execution_count": 8,
   "metadata": {},
   "outputs": [
    {
     "data": {
      "image/png": "[encoded data removed]",
      "text/plain": [
       "<Figure size 432x288 with 1 Axes>"
      ]
     },
     "metadata": {
      "needs_background": "light"
     },
     "output_type": "display_data"
    }
   ],
   "source": [
    "some_pic = image_arrays[3000]\n",
    "some_pic_image = some_pic.reshape(80,80)\n",
    "plt.imshow(some_pic_image, cmap='gray')\n",
    "plt.show()"
   ]
  },
  {
   "cell_type": "code",
   "execution_count": 9,
   "metadata": {},
   "outputs": [
    {
     "data": {
      "text/plain": [
       "'O'"
      ]
     },
     "execution_count": 9,
     "metadata": {},
     "output_type": "execute_result"
    }
   ],
   "source": [
    "labels[3000]"
   ]
  },
  {
   "cell_type": "markdown",
   "metadata": {},
   "source": [
    "### Convert the Alphabet letters to numbers: (A:1, B:2, C:3, D:4....etc.)"
   ]
  },
  {
   "cell_type": "code",
   "execution_count": 10,
   "metadata": {},
   "outputs": [],
   "source": [
    "distinct_char = set(labels)\n",
    "num_distinct_char = len(distinct_char)\n",
    "#num_distinct_char"
   ]
  },
  {
   "cell_type": "code",
   "execution_count": 11,
   "metadata": {},
   "outputs": [],
   "source": [
    "num_list = []\n",
    "for num in range(num_distinct_char):\n",
    "    num_list.append(num)\n",
    "#num_list"
   ]
  },
  {
   "cell_type": "code",
   "execution_count": 12,
   "metadata": {},
   "outputs": [],
   "source": [
    "distinct_char_list = sorted(list(distinct_char))\n",
    "#distinct_char_list"
   ]
  },
  {
   "cell_type": "code",
   "execution_count": 13,
   "metadata": {},
   "outputs": [],
   "source": [
    "char_num_dict = dict(zip(distinct_char_list, num_list))"
   ]
  },
  {
   "cell_type": "code",
   "execution_count": 14,
   "metadata": {},
   "outputs": [],
   "source": [
    "num_labels = []\n",
    "for key, value in char_num_dict.items():\n",
    "    for char in labels:\n",
    "        if char == key:\n",
    "            num_labels.append(value)"
   ]
  },
  {
   "cell_type": "code",
   "execution_count": 15,
   "metadata": {},
   "outputs": [],
   "source": [
    "#reshuffle list of arrays in same order\n",
    "zip_lists = list(zip(image_arrays, num_labels)) \n",
    "random.Random(42).shuffle(zip_lists) \n",
    "X_list, y_list = zip(*zip_lists) "
   ]
  },
  {
   "cell_type": "code",
   "execution_count": 16,
   "metadata": {},
   "outputs": [
    {
     "data": {
      "image/png": "[encoded data removed]",
      "text/plain": [
       "<Figure size 432x288 with 1 Axes>"
      ]
     },
     "metadata": {
      "needs_background": "light"
     },
     "output_type": "display_data"
    }
   ],
   "source": [
    "some_pic = X_list[4000]\n",
    "some_pic_image = some_pic.reshape(80,80)\n",
    "plt.imshow(some_pic_image, cmap='gray')\n",
    "plt.show()"
   ]
  },
  {
   "cell_type": "code",
   "execution_count": 17,
   "metadata": {},
   "outputs": [
    {
     "data": {
      "text/plain": [
       "2"
      ]
     },
     "execution_count": 17,
     "metadata": {},
     "output_type": "execute_result"
    }
   ],
   "source": [
    "y_list[4000]"
   ]
  },
  {
   "cell_type": "markdown",
   "metadata": {},
   "source": [
    "### Convert X_list, y_list into arrays:"
   ]
  },
  {
   "cell_type": "code",
   "execution_count": 18,
   "metadata": {},
   "outputs": [],
   "source": [
    "X = np.asarray(X_list)\n",
    "Y = np.asarray(y_list)"
   ]
  },
  {
   "cell_type": "markdown",
   "metadata": {},
   "source": [
    "### Split the data into 80:20"
   ]
  },
  {
   "cell_type": "code",
   "execution_count": 19,
   "metadata": {},
   "outputs": [],
   "source": [
    "train_per = 0.80\n",
    "test_per = 1 - train_per\n",
    "\n",
    "train_num = int(round(X.shape[0]*train_per))\n",
    "test_num = int(round(X.shape[0]*test_per))"
   ]
  },
  {
   "cell_type": "markdown",
   "metadata": {},
   "source": [
    "### Normalizing X values from 1-255 to 0-1 scale"
   ]
  },
  {
   "cell_type": "code",
   "execution_count": 20,
   "metadata": {},
   "outputs": [],
   "source": [
    "\n",
    "X_train, X_test = X[:train_num] / 255.0, X[train_num:] / 255.0\n",
    "Y_train_cat, Y_test_cat = Y[:train_num], Y[train_num:]"
   ]
  },
  {
   "cell_type": "markdown",
   "metadata": {},
   "source": [
    "### Reshaping the data to 80 * 80 pixel with colour channel as 1 for grayscale"
   ]
  },
  {
   "cell_type": "code",
   "execution_count": 21,
   "metadata": {},
   "outputs": [],
   "source": [
    "X_train = X_train.reshape(X_train.shape[0], 80, 80, 1)\n",
    "X_test = X_test.reshape(X_test.shape[0], 80, 80, 1)"
   ]
  },
  {
   "cell_type": "markdown",
   "metadata": {},
   "source": [
    "### One-hot Encode Y-values"
   ]
  },
  {
   "cell_type": "code",
   "execution_count": 22,
   "metadata": {},
   "outputs": [],
   "source": [
    "n_classes = 26\n",
    "\n",
    "Y_train = np_utils.to_categorical(Y_train_cat, n_classes)\n",
    "Y_test = np_utils.to_categorical(Y_test_cat, n_classes)"
   ]
  },
  {
   "cell_type": "markdown",
   "metadata": {},
   "source": [
    "### Model Building"
   ]
  },
  {
   "cell_type": "markdown",
   "metadata": {},
   "source": [
    "### Model 1"
   ]
  },
  {
   "cell_type": "code",
   "execution_count": 23,
   "metadata": {},
   "outputs": [],
   "source": [
    "model1 = Sequential()\n",
    "\n",
    "model1.add(Conv2D(64, (3, 3), input_shape=(80,80,1)))\n",
    "model1.add(Activation('relu'))\n",
    "\n",
    "model1.add(Conv2D(64, (3, 3)))\n",
    "model1.add(Activation('relu'))\n",
    "model1.add(MaxPooling2D(pool_size=(2, 2)))\n",
    "\n",
    "model1.add(Flatten())\n",
    "model1.add(Dense(200))\n",
    "\n",
    "model1.add(Dense(200))\n",
    "model1.add(Activation('relu'))\n",
    "\n",
    "model1.add(Dense(200))\n",
    "model1.add(Activation('relu'))\n",
    "model1.add(Dropout(rate=0.5))\n",
    "model1.add(Dense(200))\n",
    "model1.add(Activation('relu'))\n",
    "\n",
    "model1.add(Dense(26))\n",
    "model1.add(Activation('sigmoid'))\n",
    "\n",
    "model1.compile(loss=\"categorical_crossentropy\",\n",
    "              optimizer=\"adam\",\n",
    "              metrics=['accuracy'])\n",
    "early_stopping = EarlyStopping()"
   ]
  },
  {
   "cell_type": "code",
   "execution_count": 24,
   "metadata": {},
   "outputs": [
    {
     "name": "stdout",
     "output_type": "stream",
     "text": [
      "Epoch 1/15\n",
      "11/11 [==============================] - 45s 4s/step - loss: 3.2981 - accuracy: 0.0509 - val_loss: 3.2542 - val_accuracy: 0.0500\n",
      "Epoch 2/15\n",
      "11/11 [==============================] - 49s 4s/step - loss: 3.2266 - accuracy: 0.0681 - val_loss: 3.1937 - val_accuracy: 0.1267\n",
      "Epoch 3/15\n",
      "11/11 [==============================] - 47s 4s/step - loss: 3.0975 - accuracy: 0.1085 - val_loss: 2.9909 - val_accuracy: 0.1533\n",
      "Epoch 4/15\n",
      "11/11 [==============================] - 48s 4s/step - loss: 2.8260 - accuracy: 0.1877 - val_loss: 2.5880 - val_accuracy: 0.2567\n",
      "Epoch 5/15\n",
      "11/11 [==============================] - 50s 5s/step - loss: 2.3130 - accuracy: 0.3126 - val_loss: 1.9557 - val_accuracy: 0.4400\n",
      "Epoch 6/15\n",
      "11/11 [==============================] - 48s 4s/step - loss: 1.7522 - accuracy: 0.4605 - val_loss: 1.5725 - val_accuracy: 0.5467\n",
      "Epoch 7/15\n",
      "11/11 [==============================] - 49s 4s/step - loss: 1.2172 - accuracy: 0.6104 - val_loss: 1.1539 - val_accuracy: 0.6533\n",
      "Epoch 8/15\n",
      "11/11 [==============================] - 48s 4s/step - loss: 0.8371 - accuracy: 0.7297 - val_loss: 0.9090 - val_accuracy: 0.7567\n",
      "Epoch 9/15\n",
      "11/11 [==============================] - 49s 4s/step - loss: 0.5708 - accuracy: 0.8150 - val_loss: 0.9249 - val_accuracy: 0.7733\n"
     ]
    }
   ],
   "source": [
    "result1 = model1.fit(X_train,Y_train, batch_size=300, epochs=15, validation_steps=1, validation_split = 0.25,\n",
    "                     callbacks=[early_stopping])"
   ]
  },
  {
   "cell_type": "markdown",
   "metadata": {},
   "source": [
    "### Model 1A"
   ]
  },
  {
   "cell_type": "code",
   "execution_count": 25,
   "metadata": {},
   "outputs": [],
   "source": [
    "# building a linear stack of layers with the sequential model\n",
    "model = Sequential()\n",
    "\n",
    "# convolutional layer\n",
    "\n",
    "#First layer uses 25 filters of size (3x3) with a stride of 1 (horizontal&vertical)\n",
    "#sets the input shape of 80, 80, 1 -> images are 80x80 pixels \n",
    "\n",
    "model.add(Conv2D(filters = 32, kernel_size=(5,5), strides=1, \n",
    "                 padding='valid', activation='relu', input_shape=(80,80,1)))\n",
    "model.add(MaxPool2D(pool_size=2))\n",
    "\n",
    "model.add(Conv2D(filters = 64, kernel_size=(3,3), strides=1, \n",
    "                 padding='valid', activation='relu'))\n",
    "model.add(Conv2D(filters = 64, kernel_size=(3,3), strides=1, \n",
    "                 padding='valid', activation='relu'))\n",
    "model.add(MaxPool2D(pool_size=2))\n",
    "\n",
    "\n",
    "# flatten output of conv\n",
    "model.add(Flatten())\n",
    "# hidden layer\n",
    "model.add(Dense(100, activation='relu'))\n",
    "model.add(Dense(100, activation='relu'))\n",
    "model.add(Dense(100, activation='relu'))\n",
    "# output layer\n",
    "model.add(Dense(26, activation='softmax'))\n",
    "\n",
    "# compiling the sequential model\n",
    "\n",
    "# initiate adam optimizer\n",
    "opt = keras.optimizers.Adam(lr=0.001)\n",
    "\n",
    "model.compile(loss='categorical_crossentropy', metrics=['accuracy'], optimizer=opt)\n",
    "early_stopping = EarlyStopping()"
   ]
  },
  {
   "cell_type": "code",
   "execution_count": 26,
   "metadata": {},
   "outputs": [
    {
     "name": "stdout",
     "output_type": "stream",
     "text": [
      "Epoch 1/20\n",
      "109/109 [==============================] - 22s 203ms/step - loss: 3.2235 - accuracy: 0.0558 - val_loss: 3.0128 - val_accuracy: 0.1467\n",
      "Epoch 2/20\n",
      "109/109 [==============================] - 24s 219ms/step - loss: 2.3416 - accuracy: 0.3228 - val_loss: 2.0091 - val_accuracy: 0.3868\n",
      "Epoch 3/20\n",
      "109/109 [==============================] - 24s 218ms/step - loss: 1.2517 - accuracy: 0.6292 - val_loss: 1.0967 - val_accuracy: 0.7032\n",
      "Epoch 4/20\n",
      "109/109 [==============================] - 24s 221ms/step - loss: 0.5885 - accuracy: 0.8260 - val_loss: 0.9688 - val_accuracy: 0.7540\n",
      "Epoch 5/20\n",
      "109/109 [==============================] - 24s 223ms/step - loss: 0.3537 - accuracy: 0.8962 - val_loss: 0.7312 - val_accuracy: 0.8510\n",
      "Epoch 6/20\n",
      "109/109 [==============================] - 25s 225ms/step - loss: 0.2024 - accuracy: 0.9425 - val_loss: 0.7377 - val_accuracy: 0.8603\n"
     ]
    }
   ],
   "source": [
    "history_full = model.fit(X_train, Y_train, batch_size=32, epochs=20, validation_split = 0.20,\n",
    "                   callbacks=[early_stopping])"
   ]
  },
  {
   "cell_type": "markdown",
   "metadata": {},
   "source": [
    "### The above model has a Validation accuracy of 0.8603 and the training accuracy of 0.9425."
   ]
  },
  {
   "cell_type": "code",
   "execution_count": 27,
   "metadata": {},
   "outputs": [
    {
     "data": {
      "image/png": "[encoded data removed]",
      "text/plain": [
       "<Figure size 576x360 with 1 Axes>"
      ]
     },
     "metadata": {
      "needs_background": "light"
     },
     "output_type": "display_data"
    }
   ],
   "source": [
    "pd.DataFrame(history_full.history).plot(figsize=(8, 5))\n",
    "plt.grid(True)\n",
    "plt.gca().set_ylim(0, 1) # set the vertical range to [0-1]\n",
    "plt.show()"
   ]
  },
  {
   "cell_type": "code",
   "execution_count": 28,
   "metadata": {},
   "outputs": [
    {
     "name": "stdout",
     "output_type": "stream",
     "text": [
      "34/34 [==============================] - 1s 42ms/step - loss: 0.7112 - accuracy: 0.8530\n"
     ]
    }
   ],
   "source": [
    "score = model.evaluate(X_test, Y_test)"
   ]
  },
  {
   "cell_type": "code",
   "execution_count": 29,
   "metadata": {},
   "outputs": [
    {
     "name": "stdout",
     "output_type": "stream",
     "text": [
      "              precision    recall  f1-score   support\n",
      "\n",
      "           A       1.00      0.76      0.87        34\n",
      "           B       0.67      0.67      0.67        43\n",
      "           C       0.93      0.76      0.84        51\n",
      "           D       0.96      0.96      0.96        47\n",
      "           E       0.58      0.75      0.65        40\n",
      "           F       0.90      1.00      0.95        35\n",
      "           G       1.00      0.84      0.91        37\n",
      "           H       0.77      0.94      0.85        32\n",
      "           I       0.60      0.63      0.62        41\n",
      "           J       0.98      0.72      0.83        61\n",
      "           K       0.76      0.92      0.83        52\n",
      "           L       0.95      0.69      0.80        54\n",
      "           M       0.76      0.82      0.79        39\n",
      "           N       0.87      0.70      0.78        37\n",
      "           O       0.93      0.88      0.90        32\n",
      "           P       0.97      1.00      0.99        37\n",
      "           Q       0.95      0.95      0.95        41\n",
      "           R       0.84      0.80      0.82        45\n",
      "           S       0.95      0.88      0.91        42\n",
      "           T       0.89      0.89      0.89        46\n",
      "           U       0.64      0.96      0.77        28\n",
      "           V       0.95      0.98      0.96        53\n",
      "           W       0.94      0.89      0.92        38\n",
      "           X       0.97      0.93      0.95        41\n",
      "           Y       0.74      1.00      0.85        31\n",
      "           Z       0.90      1.00      0.95        45\n",
      "\n",
      "    accuracy                           0.85      1082\n",
      "   macro avg       0.86      0.86      0.85      1082\n",
      "weighted avg       0.87      0.85      0.85      1082\n",
      "\n"
     ]
    }
   ],
   "source": [
    "Y_pred = model.predict(X_test)\n",
    "Y_pred_classes = np.argmax(Y_pred,axis = 1) \n",
    "Y_true = np.argmax(Y_test,axis = 1)\n",
    "print(classification_report(Y_test_cat, Y_pred_classes, target_names = distinct_char_list))"
   ]
  },
  {
   "cell_type": "markdown",
   "metadata": {},
   "source": [
    "### Model 3"
   ]
  },
  {
   "cell_type": "code",
   "execution_count": 44,
   "metadata": {},
   "outputs": [
    {
     "name": "stdout",
     "output_type": "stream",
     "text": [
      "Epoch 1/15\n",
      "12/12 [==============================] - 53s 4s/step - loss: 3.3697 - accuracy: 0.0650 - val_loss: 3.1578 - val_accuracy: 0.1933\n",
      "Epoch 2/15\n",
      "12/12 [==============================] - 55s 5s/step - loss: 3.0511 - accuracy: 0.1618 - val_loss: 2.8201 - val_accuracy: 0.2767\n",
      "Epoch 3/15\n",
      "12/12 [==============================] - 56s 5s/step - loss: 2.7125 - accuracy: 0.2520 - val_loss: 2.2400 - val_accuracy: 0.4367\n",
      "Epoch 4/15\n",
      "12/12 [==============================] - 57s 5s/step - loss: 2.1663 - accuracy: 0.3951 - val_loss: 1.5786 - val_accuracy: 0.6400\n",
      "Epoch 5/15\n",
      "12/12 [==============================] - 56s 5s/step - loss: 1.6064 - accuracy: 0.5540 - val_loss: 1.1547 - val_accuracy: 0.7000\n",
      "Epoch 6/15\n",
      "12/12 [==============================] - 56s 5s/step - loss: 1.1213 - accuracy: 0.6806 - val_loss: 0.9011 - val_accuracy: 0.7867\n",
      "Epoch 7/15\n",
      "12/12 [==============================] - 57s 5s/step - loss: 0.7416 - accuracy: 0.7945 - val_loss: 0.7093 - val_accuracy: 0.8233\n",
      "Epoch 8/15\n",
      "12/12 [==============================] - 58s 5s/step - loss: 0.5135 - accuracy: 0.8584 - val_loss: 0.6428 - val_accuracy: 0.8467\n",
      "Epoch 9/15\n",
      "12/12 [==============================] - 57s 5s/step - loss: 0.3678 - accuracy: 0.9000 - val_loss: 0.5815 - val_accuracy: 0.8767\n",
      "Epoch 10/15\n",
      "12/12 [==============================] - 57s 5s/step - loss: 0.2549 - accuracy: 0.9321 - val_loss: 0.6013 - val_accuracy: 0.8733\n",
      "Epoch 11/15\n",
      "12/12 [==============================] - 59s 5s/step - loss: 0.1978 - accuracy: 0.9448 - val_loss: 0.6003 - val_accuracy: 0.8800\n",
      "Epoch 12/15\n",
      "12/12 [==============================] - 57s 5s/step - loss: 0.1513 - accuracy: 0.9627 - val_loss: 0.6740 - val_accuracy: 0.8867\n",
      "Epoch 13/15\n",
      "12/12 [==============================] - 60s 5s/step - loss: 0.1187 - accuracy: 0.9682 - val_loss: 0.5725 - val_accuracy: 0.8933\n",
      "Epoch 14/15\n",
      "12/12 [==============================] - 59s 5s/step - loss: 0.0879 - accuracy: 0.9737 - val_loss: 0.6818 - val_accuracy: 0.8900\n",
      "Epoch 15/15\n",
      "12/12 [==============================] - 60s 5s/step - loss: 0.0814 - accuracy: 0.9803 - val_loss: 0.7016 - val_accuracy: 0.9033\n"
     ]
    }
   ],
   "source": [
    "model3= Sequential()\n",
    "\n",
    "model3.add(Conv2D(64, (3, 3), input_shape= X_train.shape[1:]))\n",
    "model3.add(Activation('relu'))\n",
    "\n",
    "model3.add(Conv2D(64, (3, 3)))\n",
    "model3.add(Activation('relu'))\n",
    "model3.add(MaxPooling2D(pool_size=(2, 2)))\n",
    "\n",
    "model3.add(Flatten())\n",
    "model3.add(Dense(500))\n",
    "\n",
    "model3.add(Dense(350))\n",
    "model3.add(Activation('relu'))\n",
    "\n",
    "model3.add(Dense(200))\n",
    "model3.add(Activation('relu'))\n",
    "model3.add(Dropout(rate=0.5))\n",
    "\n",
    "model3.add(Dense(26))\n",
    "model3.add(Activation('sigmoid'))\n",
    "\n",
    "model3.compile(loss=\"categorical_crossentropy\",\n",
    "              optimizer=\"adam\",\n",
    "              metrics=['accuracy'])\n",
    "\n",
    "result3 = model3.fit(X_train,Y_train, batch_size=300, epochs=15, validation_steps=1, validation_split = 0.2)"
   ]
  },
  {
   "cell_type": "markdown",
   "metadata": {},
   "source": [
    "### The above model is our best model which has a validation accuracy of 0.903 and the training accuracy of 0.9803."
   ]
  },
  {
   "cell_type": "markdown",
   "metadata": {},
   "source": [
    "### Evaluating the Model"
   ]
  },
  {
   "cell_type": "code",
   "execution_count": 45,
   "metadata": {},
   "outputs": [
    {
     "name": "stdout",
     "output_type": "stream",
     "text": [
      "34/34 [==============================] - 4s 121ms/step - loss: 0.6576 - accuracy: 0.8974\n"
     ]
    }
   ],
   "source": [
    "score3 = model3.evaluate(X_test, Y_test)"
   ]
  },
  {
   "cell_type": "markdown",
   "metadata": {},
   "source": [
    "### Plotting Learning Curve"
   ]
  },
  {
   "cell_type": "code",
   "execution_count": 46,
   "metadata": {},
   "outputs": [
    {
     "data": {
      "image/png": "[encoded data removed]",
      "text/plain": [
       "<Figure size 576x360 with 1 Axes>"
      ]
     },
     "metadata": {
      "needs_background": "light"
     },
     "output_type": "display_data"
    }
   ],
   "source": [
    "pd.DataFrame(result3.history).plot(figsize=(8, 5))\n",
    "plt.grid(True)\n",
    "plt.gca().set_ylim(0, 3) # set the vertical range to [0-1]\n",
    "plt.show()"
   ]
  },
  {
   "cell_type": "code",
   "execution_count": 48,
   "metadata": {},
   "outputs": [
    {
     "data": {
      "text/plain": [
       "array([ 1,  3,  5,  9, 23,  8, 13, 24, 11, 19])"
      ]
     },
     "execution_count": 48,
     "metadata": {},
     "output_type": "execute_result"
    }
   ],
   "source": [
    "Y_test_cat[0:10]"
   ]
  },
  {
   "cell_type": "markdown",
   "metadata": {},
   "source": [
    "### Classifcation Report"
   ]
  },
  {
   "cell_type": "code",
   "execution_count": 49,
   "metadata": {},
   "outputs": [
    {
     "name": "stdout",
     "output_type": "stream",
     "text": [
      "              precision    recall  f1-score   support\n",
      "\n",
      "           A       0.79      1.00      0.88        34\n",
      "           B       0.79      0.63      0.70        43\n",
      "           C       0.88      0.84      0.86        51\n",
      "           D       1.00      1.00      1.00        47\n",
      "           E       0.73      0.60      0.66        40\n",
      "           F       1.00      0.97      0.99        35\n",
      "           G       0.83      0.95      0.89        37\n",
      "           H       0.93      0.88      0.90        32\n",
      "           I       0.81      0.61      0.69        41\n",
      "           J       0.86      0.92      0.89        61\n",
      "           K       0.80      0.90      0.85        52\n",
      "           L       0.96      0.83      0.89        54\n",
      "           M       0.97      0.79      0.87        39\n",
      "           N       0.73      0.86      0.79        37\n",
      "           O       0.88      0.91      0.89        32\n",
      "           P       0.97      1.00      0.99        37\n",
      "           Q       0.93      1.00      0.96        41\n",
      "           R       0.84      0.96      0.90        45\n",
      "           S       0.95      1.00      0.98        42\n",
      "           T       1.00      0.91      0.95        46\n",
      "           U       1.00      0.89      0.94        28\n",
      "           V       0.94      0.96      0.95        53\n",
      "           W       0.95      1.00      0.97        38\n",
      "           X       1.00      0.95      0.97        41\n",
      "           Y       0.89      1.00      0.94        31\n",
      "           Z       0.96      1.00      0.98        45\n",
      "\n",
      "    accuracy                           0.90      1082\n",
      "   macro avg       0.90      0.90      0.90      1082\n",
      "weighted avg       0.90      0.90      0.90      1082\n",
      "\n"
     ]
    }
   ],
   "source": [
    "Y_pred2 = model3.predict(X_test)\n",
    "Y_pred_classes2 = np.argmax(Y_pred2,axis = 1) \n",
    "print(classification_report(Y_test_cat, Y_pred_classes2, target_names = distinct_char_list))"
   ]
  },
  {
   "cell_type": "markdown",
   "metadata": {},
   "source": [
    "https://towardsdatascience.com/a-guide-to-an-efficient-way-to-build-neural-network-architectures-part-ii-hyper-parameter-42efca01e5d7"
   ]
  },
  {
   "cell_type": "markdown",
   "metadata": {},
   "source": [
    "### Testing the model"
   ]
  },
  {
   "cell_type": "markdown",
   "metadata": {},
   "source": [
    "### \"Hello\" Test"
   ]
  },
  {
   "cell_type": "code",
   "execution_count": 59,
   "metadata": {},
   "outputs": [],
   "source": [
    "helloTestDir = cwd + '\\\\Hello' "
   ]
  },
  {
   "cell_type": "code",
   "execution_count": 60,
   "metadata": {},
   "outputs": [
    {
     "name": "stdout",
     "output_type": "stream",
     "text": [
      "1.jpg\n",
      "2.jpg\n",
      "3.jpg\n",
      "4.jpg\n",
      "o.jpg\n"
     ]
    }
   ],
   "source": [
    "for pic in os.listdir(helloTestDir):\n",
    "    print(pic)"
   ]
  },
  {
   "cell_type": "markdown",
   "metadata": {},
   "source": [
    "### Adding the images to the image_arrays2, reshaping and normalizing the Hello test data"
   ]
  },
  {
   "cell_type": "code",
   "execution_count": 61,
   "metadata": {},
   "outputs": [
    {
     "data": {
      "text/plain": [
       "(5, 80, 80, 1)"
      ]
     },
     "execution_count": 61,
     "metadata": {},
     "output_type": "execute_result"
    }
   ],
   "source": [
    "image_arrays2 = []\n",
    "\n",
    "for pic in os.listdir(helloTestDir):         \n",
    "        \n",
    "    img2 = cv2.imread(os.path.join(helloTestDir, pic), 0)  \n",
    "\n",
    "    new_img_array = cv2.resize(img2, dsize=(80, 80))\n",
    "    image_arrays2.append(new_img_array)\n",
    "\n",
    "X_hello = np.asarray(image_arrays2)\n",
    "\n",
    "#normalizing x values from 1-255 to 0-1 scale\n",
    "X_hello_norm = X_hello / 255.0\n",
    "X_hello_norm_reshaped = X_hello_norm.reshape(X_hello_norm.shape[0], 80, 80, 1)\n",
    "X_hello_norm_reshaped.shape"
   ]
  },
  {
   "cell_type": "code",
   "execution_count": 62,
   "metadata": {},
   "outputs": [
    {
     "data": {
      "image/png": "[encoded data removed]",
      "text/plain": [
       "<Figure size 432x288 with 1 Axes>"
      ]
     },
     "metadata": {
      "needs_background": "light"
     },
     "output_type": "display_data"
    }
   ],
   "source": [
    "some_pic = image_arrays2[1]\n",
    "some_pic_image = some_pic.reshape(80,80)\n",
    "plt.imshow(some_pic_image, cmap='gray')\n",
    "plt.show()"
   ]
  },
  {
   "cell_type": "code",
   "execution_count": 63,
   "metadata": {},
   "outputs": [],
   "source": [
    "# hello_pred[1]"
   ]
  },
  {
   "cell_type": "markdown",
   "metadata": {},
   "source": [
    "### Predicting the Hello test data on the best model"
   ]
  },
  {
   "cell_type": "code",
   "execution_count": 64,
   "metadata": {},
   "outputs": [
    {
     "data": {
      "text/plain": [
       "array([ 7,  4, 11, 11, 14], dtype=int64)"
      ]
     },
     "execution_count": 64,
     "metadata": {},
     "output_type": "execute_result"
    }
   ],
   "source": [
    "hello_pred = model3.predict(X_hello_norm_reshaped)\n",
    "hello_pred_classes = np.argmax(hello_pred,axis = 1) \n",
    "hello_pred_classes"
   ]
  },
  {
   "cell_type": "markdown",
   "metadata": {},
   "source": [
    "### Printing the character to numerical dictionary"
   ]
  },
  {
   "cell_type": "code",
   "execution_count": 65,
   "metadata": {},
   "outputs": [
    {
     "data": {
      "text/plain": [
       "{'A': 0,\n",
       " 'B': 1,\n",
       " 'C': 2,\n",
       " 'D': 3,\n",
       " 'E': 4,\n",
       " 'F': 5,\n",
       " 'G': 6,\n",
       " 'H': 7,\n",
       " 'I': 8,\n",
       " 'J': 9,\n",
       " 'K': 10,\n",
       " 'L': 11,\n",
       " 'M': 12,\n",
       " 'N': 13,\n",
       " 'O': 14,\n",
       " 'P': 15,\n",
       " 'Q': 16,\n",
       " 'R': 17,\n",
       " 'S': 18,\n",
       " 'T': 19,\n",
       " 'U': 20,\n",
       " 'V': 21,\n",
       " 'W': 22,\n",
       " 'X': 23,\n",
       " 'Y': 24,\n",
       " 'Z': 25}"
      ]
     },
     "execution_count": 65,
     "metadata": {},
     "output_type": "execute_result"
    }
   ],
   "source": [
    "char_num_dict"
   ]
  },
  {
   "cell_type": "code",
   "execution_count": 66,
   "metadata": {},
   "outputs": [],
   "source": [
    "word_list = []\n",
    "for x in hello_pred_classes:\n",
    "    for letter, num in char_num_dict.items():\n",
    "    \n",
    "        if x == num:\n",
    "            word_list.append(letter)"
   ]
  },
  {
   "cell_type": "markdown",
   "metadata": {},
   "source": [
    "### The model correctly predicting the Hello test data"
   ]
  },
  {
   "cell_type": "code",
   "execution_count": 67,
   "metadata": {},
   "outputs": [
    {
     "data": {
      "text/plain": [
       "['H', 'E', 'L', 'L', 'O']"
      ]
     },
     "execution_count": 67,
     "metadata": {},
     "output_type": "execute_result"
    }
   ],
   "source": [
    "word_list"
   ]
  },
  {
   "cell_type": "code",
   "execution_count": 68,
   "metadata": {},
   "outputs": [
    {
     "name": "stdout",
     "output_type": "stream",
     "text": [
      "HELLO\n"
     ]
    }
   ],
   "source": [
    "print(''.join(map(str, word_list)))"
   ]
  }
 ],
 "metadata": {
  "kernelspec": {
   "display_name": "Python 3",
   "language": "python",
   "name": "python3"
  },
  "language_info": {
   "codemirror_mode": {
    "name": "ipython",
    "version": 3
   },
   "file_extension": ".py",
   "mimetype": "text/x-python",
   "name": "python",
   "nbconvert_exporter": "python",
   "pygments_lexer": "ipython3",
   "version": "3.8.3"
  }
 },
 "nbformat": 4,
 "nbformat_minor": 4
}
